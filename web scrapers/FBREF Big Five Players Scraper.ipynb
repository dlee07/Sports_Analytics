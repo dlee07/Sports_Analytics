{
 "cells": [
  {
   "cell_type": "code",
   "execution_count": 5,
   "metadata": {},
   "outputs": [],
   "source": [
    "import requests\n",
    "from bs4 import BeautifulSoup\n",
    "import json\n",
    "import matplotlib.pyplot as plt\n",
    "import seaborn as sns\n",
    "import pandas as pd"
   ]
  },
  {
   "cell_type": "code",
   "execution_count": 6,
   "metadata": {},
   "outputs": [],
   "source": [
    "standard_columns = ['player', 'position', 'nationality','team', 'comp_level', 'age', 'games', \n",
    "                   'games_starts', 'minutes', 'minutes_90s', 'goals', 'assists', 'goals_per90', \n",
    "                    'assists_per90', 'goals_assists_per90', 'xg', 'npxg', 'xg_assist', 'xg_per90',\n",
    "                    'npxg_per90', 'xg_assist_per90', \"progressive_passes\", \"progressive_carries\", \"progressive_passes_received\"]\n",
    "#passing\n",
    "passing_columns = ['player', 'nationality', 'position', 'team', 'comp_level', 'age', 'minutes_90s',\n",
    "                  'passes_completed', 'passes', 'passes_pct', 'passes_total_distance', 'passes_progressive_distance',\n",
    "                  'assists', 'xg_assist', 'pass_xa', 'assisted_shots', 'passes_into_final_third', 'passes_into_penalty_area',\n",
    "                  'crosses_into_penalty_area', 'progressive_passes']\n",
    "\n",
    "#gca\n",
    "gca_columns = ['player', 'nationality', 'position', 'team', 'comp_level', 'age', 'minutes_90s', 'sca',\n",
    "              'sca_per90', 'sca_passes_live', 'sca_passes_dead', 'sca_take_ons', 'sca_shots', \n",
    "              'sca_fouled', 'sca_defense', 'gca', 'gca_per90', 'gca_passes_live', 'gca_passes_dead',\n",
    "              'gca_take_ons', 'gca_shots', 'gca_fouled', 'gca_defense']\n",
    "\n",
    "shooting_columns = ['player', 'team', 'position',\n",
    "                    'age', 'minutes_90s', 'goals', 'pens_made', 'shots', 'shots_on_target', 'shots_on_target_pct',\n",
    "                   'shots_per90', 'shots_on_target_per90', 'goals_per_shot', 'goals_per_shot_on_target', 'average_shot_distance',\n",
    "                   'xg', 'npxg', 'npxg_per_shot', 'xg_net', 'npxg_net']\n",
    "\n",
    "\n",
    "#possession\n",
    "possession_columns = ['player', 'nationality', 'position', 'team', 'comp_level', 'age', 'minutes_90s', 'touches',\n",
    "                     'touches_def_pen_area', 'touches_def_3rd', 'touches_mid_3rd', 'touches_att_3rd', 'touches_att_pen_area',\n",
    "                     'touches_live_ball', 'take_ons_won', 'take_ons', 'take_ons_won_pct', 'take_ons_tackled', 'take_ons_tackled_pct',\n",
    "                     'carries', 'carries_distance', 'carries_progressive_distance', 'progressive_carries', 'carries_into_final_third',\n",
    "                     'carries_into_penalty_area', 'miscontrols', 'dispossessed',  'passes_received',\n",
    "                     'progressive_passes_received']\n",
    "\n",
    "pass_types_columns = ['player', 'passes',\n",
    "                     'passes_live', 'passes_dead', 'through_balls',  'passes_switches','crosses',\n",
    "                      'passes_blocked']\n",
    "\n",
    "defense_columns = ['player', 'nationality', 'position', 'team', 'comp_level', 'age', 'minutes_90s', 'tackles', \n",
    "                  'tackles_won', 'tackles_def_3rd', 'tackles_mid_3rd', 'tackles_att_3rd', 'challenge_tackles',\n",
    "                   'challenges', 'challenge_tackles_pct', 'challenges_lost',\n",
    "                   'blocked_shots', \n",
    "                  'blocked_passes', 'interceptions', 'tackles_interceptions', 'clearances', 'errors']\n",
    "\n",
    "#misc_columns = ['player', 'nationality', 'position', 'minutes_90s', 'tram', 'comp_level', 'age', 'minutes_90s', 'cards_yellow',\n",
    "#               'cards_red', 'cards_yellow_red', 'fouls', 'fouled', 'interceptions', 'tackles_won', 'pens_won',\n",
    "#               'pens_conceded', 'ball_recoveries', 'aerials_won', 'aerials_lost', 'aerials_won_pct']\n"
   ]
  },
  {
   "cell_type": "code",
   "execution_count": 7,
   "metadata": {},
   "outputs": [],
   "source": [
    "def scrape(link, cols):\n",
    "    res = requests.get(link)\n",
    "    soup = BeautifulSoup(res.content, 'lxml')\n",
    "    tables = soup.findAll('tbody')\n",
    "    rows = tables[0].findAll('tr')\n",
    "    table = dict()\n",
    "    \n",
    "    for curElem in rows:\n",
    "       \n",
    "        if (curElem.find('th', {'scope': 'row'}) != None):\n",
    "            for curr in cols:\n",
    "              \n",
    "                k = curElem.find('td', {'data-stat': curr})\n",
    "                text = k.text.strip().encode()\n",
    "                pretty_text = text.decode('utf-8')\n",
    "                if pretty_text == '':\n",
    "                    pretty_text = '0'\n",
    "                if (curr!='player') and (curr!='nationality') and (curr!='position') and (curr!='team') and (curr!='comp_level'): \n",
    "                    pretty_text = float(pretty_text.replace(',',''))\n",
    "                if curr in table:\n",
    "                    table[curr].append(pretty_text)\n",
    "                else:\n",
    "                    table[curr] = [pretty_text]\n",
    "    \n",
    "    players = pd.DataFrame(table)\n",
    "    return players"
   ]
  },
  {
   "cell_type": "code",
   "execution_count": 4,
   "metadata": {},
   "outputs": [
    {
     "name": "stdout",
     "output_type": "stream",
     "text": [
      "Please enter what data: stats\n"
     ]
    }
   ],
   "source": [
    "# stats\n",
    "base = 'https://fbref.com/en/comps/Big5/'\n",
    "data = str(input('Please enter what data: '))\n",
    "url = base + data + '/players/Big-5-European-Leagues-Stats'"
   ]
  },
  {
   "cell_type": "code",
   "execution_count": null,
   "metadata": {},
   "outputs": [],
   "source": []
  },
  {
   "cell_type": "code",
   "execution_count": 5,
   "metadata": {},
   "outputs": [],
   "source": [
    "df_stats = scrape(url, standard_columns)"
   ]
  },
  {
   "cell_type": "code",
   "execution_count": 6,
   "metadata": {},
   "outputs": [
    {
     "data": {
      "text/html": [
       "<div>\n",
       "<style scoped>\n",
       "    .dataframe tbody tr th:only-of-type {\n",
       "        vertical-align: middle;\n",
       "    }\n",
       "\n",
       "    .dataframe tbody tr th {\n",
       "        vertical-align: top;\n",
       "    }\n",
       "\n",
       "    .dataframe thead th {\n",
       "        text-align: right;\n",
       "    }\n",
       "</style>\n",
       "<table border=\"1\" class=\"dataframe\">\n",
       "  <thead>\n",
       "    <tr style=\"text-align: right;\">\n",
       "      <th></th>\n",
       "      <th>player</th>\n",
       "      <th>position</th>\n",
       "      <th>nationality</th>\n",
       "      <th>team</th>\n",
       "      <th>comp_level</th>\n",
       "      <th>age</th>\n",
       "      <th>games</th>\n",
       "      <th>games_starts</th>\n",
       "      <th>minutes</th>\n",
       "      <th>minutes_90s</th>\n",
       "      <th>...</th>\n",
       "      <th>goals_assists_per90</th>\n",
       "      <th>xg</th>\n",
       "      <th>npxg</th>\n",
       "      <th>xg_assist</th>\n",
       "      <th>xg_per90</th>\n",
       "      <th>npxg_per90</th>\n",
       "      <th>xg_assist_per90</th>\n",
       "      <th>progressive_passes</th>\n",
       "      <th>progressive_carries</th>\n",
       "      <th>progressive_passes_received</th>\n",
       "    </tr>\n",
       "  </thead>\n",
       "  <tbody>\n",
       "    <tr>\n",
       "      <th>0</th>\n",
       "      <td>Brenden Aaronson</td>\n",
       "      <td>MF,FW</td>\n",
       "      <td>us USA</td>\n",
       "      <td>Leeds United</td>\n",
       "      <td>eng Premier League</td>\n",
       "      <td>21.0</td>\n",
       "      <td>36.0</td>\n",
       "      <td>28.0</td>\n",
       "      <td>2372.0</td>\n",
       "      <td>26.4</td>\n",
       "      <td>...</td>\n",
       "      <td>0.15</td>\n",
       "      <td>3.9</td>\n",
       "      <td>3.9</td>\n",
       "      <td>4.2</td>\n",
       "      <td>0.15</td>\n",
       "      <td>0.15</td>\n",
       "      <td>0.16</td>\n",
       "      <td>86.0</td>\n",
       "      <td>43.0</td>\n",
       "      <td>151.0</td>\n",
       "    </tr>\n",
       "    <tr>\n",
       "      <th>1</th>\n",
       "      <td>Paxten Aaronson</td>\n",
       "      <td>MF,DF</td>\n",
       "      <td>us USA</td>\n",
       "      <td>Eint Frankfurt</td>\n",
       "      <td>de Bundesliga</td>\n",
       "      <td>18.0</td>\n",
       "      <td>7.0</td>\n",
       "      <td>0.0</td>\n",
       "      <td>173.0</td>\n",
       "      <td>1.9</td>\n",
       "      <td>...</td>\n",
       "      <td>0.00</td>\n",
       "      <td>0.2</td>\n",
       "      <td>0.2</td>\n",
       "      <td>0.0</td>\n",
       "      <td>0.09</td>\n",
       "      <td>0.09</td>\n",
       "      <td>0.03</td>\n",
       "      <td>6.0</td>\n",
       "      <td>8.0</td>\n",
       "      <td>15.0</td>\n",
       "    </tr>\n",
       "    <tr>\n",
       "      <th>2</th>\n",
       "      <td>James Abankwah</td>\n",
       "      <td>DF</td>\n",
       "      <td>ie IRL</td>\n",
       "      <td>Udinese</td>\n",
       "      <td>it Serie A</td>\n",
       "      <td>18.0</td>\n",
       "      <td>2.0</td>\n",
       "      <td>1.0</td>\n",
       "      <td>63.0</td>\n",
       "      <td>0.7</td>\n",
       "      <td>...</td>\n",
       "      <td>0.00</td>\n",
       "      <td>0.0</td>\n",
       "      <td>0.0</td>\n",
       "      <td>0.0</td>\n",
       "      <td>0.00</td>\n",
       "      <td>0.00</td>\n",
       "      <td>0.00</td>\n",
       "      <td>0.0</td>\n",
       "      <td>0.0</td>\n",
       "      <td>0.0</td>\n",
       "    </tr>\n",
       "    <tr>\n",
       "      <th>3</th>\n",
       "      <td>George Abbott</td>\n",
       "      <td>MF</td>\n",
       "      <td>eng ENG</td>\n",
       "      <td>Tottenham</td>\n",
       "      <td>eng Premier League</td>\n",
       "      <td>16.0</td>\n",
       "      <td>1.0</td>\n",
       "      <td>0.0</td>\n",
       "      <td>1.0</td>\n",
       "      <td>0.0</td>\n",
       "      <td>...</td>\n",
       "      <td>0.00</td>\n",
       "      <td>0.0</td>\n",
       "      <td>0.0</td>\n",
       "      <td>0.0</td>\n",
       "      <td>0.00</td>\n",
       "      <td>0.00</td>\n",
       "      <td>0.00</td>\n",
       "      <td>0.0</td>\n",
       "      <td>0.0</td>\n",
       "      <td>0.0</td>\n",
       "    </tr>\n",
       "    <tr>\n",
       "      <th>4</th>\n",
       "      <td>Yunis Abdelhamid</td>\n",
       "      <td>DF</td>\n",
       "      <td>ma MAR</td>\n",
       "      <td>Reims</td>\n",
       "      <td>fr Ligue 1</td>\n",
       "      <td>34.0</td>\n",
       "      <td>37.0</td>\n",
       "      <td>37.0</td>\n",
       "      <td>3330.0</td>\n",
       "      <td>37.0</td>\n",
       "      <td>...</td>\n",
       "      <td>0.08</td>\n",
       "      <td>2.4</td>\n",
       "      <td>2.4</td>\n",
       "      <td>1.0</td>\n",
       "      <td>0.06</td>\n",
       "      <td>0.06</td>\n",
       "      <td>0.03</td>\n",
       "      <td>215.0</td>\n",
       "      <td>40.0</td>\n",
       "      <td>10.0</td>\n",
       "    </tr>\n",
       "  </tbody>\n",
       "</table>\n",
       "<p>5 rows × 24 columns</p>\n",
       "</div>"
      ],
      "text/plain": [
       "             player position nationality            team          comp_level  \\\n",
       "0  Brenden Aaronson    MF,FW      us USA    Leeds United  eng Premier League   \n",
       "1   Paxten Aaronson    MF,DF      us USA  Eint Frankfurt       de Bundesliga   \n",
       "2    James Abankwah       DF      ie IRL         Udinese          it Serie A   \n",
       "3     George Abbott       MF     eng ENG       Tottenham  eng Premier League   \n",
       "4  Yunis Abdelhamid       DF      ma MAR           Reims          fr Ligue 1   \n",
       "\n",
       "    age  games  games_starts  minutes  minutes_90s  ...  goals_assists_per90  \\\n",
       "0  21.0   36.0          28.0   2372.0         26.4  ...                 0.15   \n",
       "1  18.0    7.0           0.0    173.0          1.9  ...                 0.00   \n",
       "2  18.0    2.0           1.0     63.0          0.7  ...                 0.00   \n",
       "3  16.0    1.0           0.0      1.0          0.0  ...                 0.00   \n",
       "4  34.0   37.0          37.0   3330.0         37.0  ...                 0.08   \n",
       "\n",
       "    xg  npxg  xg_assist  xg_per90  npxg_per90  xg_assist_per90  \\\n",
       "0  3.9   3.9        4.2      0.15        0.15             0.16   \n",
       "1  0.2   0.2        0.0      0.09        0.09             0.03   \n",
       "2  0.0   0.0        0.0      0.00        0.00             0.00   \n",
       "3  0.0   0.0        0.0      0.00        0.00             0.00   \n",
       "4  2.4   2.4        1.0      0.06        0.06             0.03   \n",
       "\n",
       "   progressive_passes  progressive_carries  progressive_passes_received  \n",
       "0                86.0                 43.0                        151.0  \n",
       "1                 6.0                  8.0                         15.0  \n",
       "2                 0.0                  0.0                          0.0  \n",
       "3                 0.0                  0.0                          0.0  \n",
       "4               215.0                 40.0                         10.0  \n",
       "\n",
       "[5 rows x 24 columns]"
      ]
     },
     "execution_count": 6,
     "metadata": {},
     "output_type": "execute_result"
    }
   ],
   "source": [
    "df_stats.head(n=5)"
   ]
  },
  {
   "cell_type": "code",
   "execution_count": 3,
   "metadata": {},
   "outputs": [],
   "source": [
    "url='https://fbref.com/en/comps/Big5/2021-2022/shooting/players/2021-2022-Big-5-European-Leagues-Stats'"
   ]
  },
  {
   "cell_type": "code",
   "execution_count": 10,
   "metadata": {},
   "outputs": [
    {
     "name": "stdout",
     "output_type": "stream",
     "text": [
      "Please enter what data: shooting\n"
     ]
    }
   ],
   "source": [
    "# shooting\n",
    "base = 'https://fbref.com/en/comps/Big5/'\n",
    "data = str(input('Please enter what data: '))\n",
    "url = base + data + '/players/Big-5-European-Leagues-Stats'"
   ]
  },
  {
   "cell_type": "code",
   "execution_count": 11,
   "metadata": {},
   "outputs": [],
   "source": [
    "df_shooting = scrape(url, shooting_columns)"
   ]
  },
  {
   "cell_type": "code",
   "execution_count": 7,
   "metadata": {},
   "outputs": [
    {
     "name": "stdout",
     "output_type": "stream",
     "text": [
      "Please enter what data: passing\n"
     ]
    }
   ],
   "source": [
    "# passing\n",
    "base = 'https://fbref.com/en/comps/Big5/'\n",
    "data = str(input('Please enter what data: '))\n",
    "url = base + data + '/players/Big-5-European-Leagues-Stats'"
   ]
  },
  {
   "cell_type": "code",
   "execution_count": 8,
   "metadata": {},
   "outputs": [],
   "source": [
    "df_passing = scrape(url, passing_columns)"
   ]
  },
  {
   "cell_type": "code",
   "execution_count": 9,
   "metadata": {},
   "outputs": [
    {
     "name": "stdout",
     "output_type": "stream",
     "text": [
      "Please enter what data: gca\n"
     ]
    }
   ],
   "source": [
    "#gca\n",
    "base = 'https://fbref.com/en/comps/Big5/'\n",
    "data = str(input('Please enter what data: '))\n",
    "url = base + data + '/players/Big-5-European-Leagues-Stats'"
   ]
  },
  {
   "cell_type": "code",
   "execution_count": 10,
   "metadata": {},
   "outputs": [],
   "source": [
    "df_gca = scrape(url, gca_columns)"
   ]
  },
  {
   "cell_type": "code",
   "execution_count": 11,
   "metadata": {},
   "outputs": [
    {
     "data": {
      "text/plain": [
       "Index(['player', 'nationality', 'position', 'team', 'comp_level', 'age',\n",
       "       'minutes_90s', 'sca', 'sca_per90', 'sca_passes_live', 'sca_passes_dead',\n",
       "       'sca_take_ons', 'sca_shots', 'sca_fouled', 'sca_defense', 'gca',\n",
       "       'gca_per90', 'gca_passes_live', 'gca_passes_dead', 'gca_take_ons',\n",
       "       'gca_shots', 'gca_fouled', 'gca_defense'],\n",
       "      dtype='object')"
      ]
     },
     "execution_count": 11,
     "metadata": {},
     "output_type": "execute_result"
    }
   ],
   "source": [
    "df_gca.columns"
   ]
  },
  {
   "cell_type": "code",
   "execution_count": 12,
   "metadata": {},
   "outputs": [
    {
     "name": "stdout",
     "output_type": "stream",
     "text": [
      "Please enter what data: possession\n"
     ]
    }
   ],
   "source": [
    "#possession\n",
    "base = 'https://fbref.com/en/comps/Big5/'\n",
    "data = str(input('Please enter what data: '))\n",
    "url = base + data + '/players/Big-5-European-Leagues-Stats'"
   ]
  },
  {
   "cell_type": "code",
   "execution_count": 13,
   "metadata": {},
   "outputs": [],
   "source": [
    "df_poss = scrape(url, possession_columns)"
   ]
  },
  {
   "cell_type": "code",
   "execution_count": 14,
   "metadata": {},
   "outputs": [
    {
     "name": "stdout",
     "output_type": "stream",
     "text": [
      "Please enter what data: defense\n"
     ]
    }
   ],
   "source": [
    "#defense\n",
    "base = 'https://fbref.com/en/comps/Big5/'\n",
    "data = str(input('Please enter what data: '))\n",
    "url = base + data + '/players/Big-5-European-Leagues-Stats'"
   ]
  },
  {
   "cell_type": "code",
   "execution_count": 15,
   "metadata": {},
   "outputs": [],
   "source": [
    "df_defense = scrape(url, defense_columns)"
   ]
  },
  {
   "cell_type": "code",
   "execution_count": 16,
   "metadata": {},
   "outputs": [],
   "source": [
    "#base = 'https://fbref.com/en/comps/Big5/'\n",
    "#data = str(input('Please enter what data: '))\n",
    "#url = base + data + '/players/Big-5-European-Leagues-Stats'"
   ]
  },
  {
   "cell_type": "code",
   "execution_count": 17,
   "metadata": {},
   "outputs": [],
   "source": [
    "#df_misc = scrape(url, misc_columns)"
   ]
  },
  {
   "cell_type": "code",
   "execution_count": 18,
   "metadata": {},
   "outputs": [
    {
     "name": "stdout",
     "output_type": "stream",
     "text": [
      "Please enter what data: passing_types\n"
     ]
    }
   ],
   "source": [
    "base = 'https://fbref.com/en/comps/Big5/'\n",
    "data = str(input('Please enter what data: '))\n",
    "url = base + data + '/players/Big-5-European-Leagues-Stats'"
   ]
  },
  {
   "cell_type": "code",
   "execution_count": 21,
   "metadata": {},
   "outputs": [],
   "source": [
    "df_pass_types = scrape(url, pass_types_columns)"
   ]
  },
  {
   "cell_type": "code",
   "execution_count": 39,
   "metadata": {},
   "outputs": [
    {
     "data": {
      "text/plain": [
       "2889"
      ]
     },
     "execution_count": 39,
     "metadata": {},
     "output_type": "execute_result"
    }
   ],
   "source": [
    "len(df)"
   ]
  },
  {
   "cell_type": "code",
   "execution_count": 22,
   "metadata": {},
   "outputs": [],
   "source": [
    "df_stats.to_csv('stats_2223.csv')\n",
    "df_passing.to_csv('pass_2223.csv')\n",
    "df_gca.to_csv('gca_2223.csv')\n",
    "df_poss.to_csv('poss_2223.csv')\n",
    "df_defense.to_csv('defense_2223.csv')\n",
    "df_pass_types.to_csv('ptypes.csv')\n"
   ]
  },
  {
   "cell_type": "code",
   "execution_count": 7,
   "metadata": {},
   "outputs": [],
   "source": [
    "df_shooting.to_csv('shooting.csv')"
   ]
  },
  {
   "cell_type": "code",
   "execution_count": 54,
   "metadata": {},
   "outputs": [
    {
     "name": "stdout",
     "output_type": "stream",
     "text": [
      "2889\n"
     ]
    }
   ],
   "source": [
    "master = pd.concat([df_stats, df_passing, df_gca, df_poss, df_defense, df_pass_types], axis=1)\n",
    "print(len(master))"
   ]
  },
  {
   "cell_type": "code",
   "execution_count": 68,
   "metadata": {},
   "outputs": [],
   "source": [
    "# Transpose the DataFrame to work with the columns as rows\n",
    "master_transposed = master.T\n",
    "\n",
    "# Drop duplicates while keeping the first occurrence\n",
    "master_transposed_unique = master_transposed.drop_duplicates(keep='first')\n",
    "\n",
    "# Transpose the DataFrame back to the original shape\n",
    "master_df = master_transposed_unique.T"
   ]
  },
  {
   "cell_type": "code",
   "execution_count": 75,
   "metadata": {},
   "outputs": [],
   "source": [
    "master_df = master_df.drop_duplicates(subset='player')"
   ]
  },
  {
   "cell_type": "code",
   "execution_count": 76,
   "metadata": {},
   "outputs": [
    {
     "data": {
      "text/plain": [
       "2716"
      ]
     },
     "execution_count": 76,
     "metadata": {},
     "output_type": "execute_result"
    }
   ],
   "source": [
    "len(master_df)"
   ]
  },
  {
   "cell_type": "code",
   "execution_count": 77,
   "metadata": {},
   "outputs": [
    {
     "data": {
      "text/plain": [
       "2716"
      ]
     },
     "execution_count": 77,
     "metadata": {},
     "output_type": "execute_result"
    }
   ],
   "source": [
    "len(master_df['player'].unique())"
   ]
  },
  {
   "cell_type": "code",
   "execution_count": null,
   "metadata": {},
   "outputs": [],
   "source": []
  },
  {
   "cell_type": "code",
   "execution_count": 12,
   "metadata": {},
   "outputs": [],
   "source": [
    "df_shooting[df_shooting.position=='FW'].to_excel('2022-2023_shooting_performance_pk.xlsx')"
   ]
  },
  {
   "cell_type": "code",
   "execution_count": null,
   "metadata": {},
   "outputs": [],
   "source": []
  },
  {
   "cell_type": "code",
   "execution_count": null,
   "metadata": {},
   "outputs": [],
   "source": []
  }
 ],
 "metadata": {
  "kernelspec": {
   "display_name": "Python 3",
   "language": "python",
   "name": "python3"
  },
  "language_info": {
   "codemirror_mode": {
    "name": "ipython",
    "version": 3
   },
   "file_extension": ".py",
   "mimetype": "text/x-python",
   "name": "python",
   "nbconvert_exporter": "python",
   "pygments_lexer": "ipython3",
   "version": "3.8.3"
  }
 },
 "nbformat": 4,
 "nbformat_minor": 4
}
