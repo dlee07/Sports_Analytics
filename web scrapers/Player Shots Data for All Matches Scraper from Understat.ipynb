{
 "cells": [
  {
   "cell_type": "code",
   "execution_count": 3,
   "metadata": {},
   "outputs": [],
   "source": [
    "import pandas as pd\n",
    "from bs4 import BeautifulSoup\n",
    "import json\n",
    "import requests"
   ]
  },
  {
   "cell_type": "code",
   "execution_count": 1,
   "metadata": {},
   "outputs": [],
   "source": [
    "base_url = 'https://understat.com/player/556'"
   ]
  },
  {
   "cell_type": "code",
   "execution_count": 4,
   "metadata": {},
   "outputs": [],
   "source": [
    "res = requests.get(base_url)\n",
    "soup = BeautifulSoup(res.content, \"lxml\")\n",
    "scripts = soup.find_all('script')\n",
    "strings = scripts[3].string"
   ]
  },
  {
   "cell_type": "code",
   "execution_count": 5,
   "metadata": {},
   "outputs": [],
   "source": [
    "ind_start = strings.index(\"('\")+2\n",
    "ind_end = strings.index(\"')\")\n",
    "\n",
    "json_data = strings[ind_start:ind_end]\n",
    "json_data = json_data.encode('utf8').decode('unicode_escape')\n",
    "\n",
    "data = json.loads(json_data)"
   ]
  },
  {
   "cell_type": "code",
   "execution_count": 6,
   "metadata": {},
   "outputs": [],
   "source": [
    "df = pd.DataFrame.from_dict(data)\n",
    "df = df[df['situation']!='Penalty']"
   ]
  },
  {
   "cell_type": "code",
   "execution_count": 12,
   "metadata": {},
   "outputs": [],
   "source": [
    "df['X'] = df['X'].astype(float)\n",
    "df['Y'] = df['Y'].astype(float)"
   ]
  },
  {
   "cell_type": "code",
   "execution_count": 13,
   "metadata": {},
   "outputs": [],
   "source": [
    "df[df['season']=='2020'].to_excel('2020_rashford.xlsx')"
   ]
  },
  {
   "cell_type": "code",
   "execution_count": 14,
   "metadata": {},
   "outputs": [
    {
     "name": "stdout",
     "output_type": "stream",
     "text": [
      "<class 'pandas.core.frame.DataFrame'>\n",
      "Int64Index: 384 entries, 0 to 391\n",
      "Data columns (total 20 columns):\n",
      " #   Column           Non-Null Count  Dtype  \n",
      "---  ------           --------------  -----  \n",
      " 0   id               384 non-null    object \n",
      " 1   minute           384 non-null    object \n",
      " 2   result           384 non-null    object \n",
      " 3   X                384 non-null    float64\n",
      " 4   Y                384 non-null    float64\n",
      " 5   xG               384 non-null    object \n",
      " 6   player           384 non-null    object \n",
      " 7   h_a              384 non-null    object \n",
      " 8   player_id        384 non-null    object \n",
      " 9   situation        384 non-null    object \n",
      " 10  season           384 non-null    object \n",
      " 11  shotType         384 non-null    object \n",
      " 12  match_id         384 non-null    object \n",
      " 13  h_team           384 non-null    object \n",
      " 14  a_team           384 non-null    object \n",
      " 15  h_goals          384 non-null    object \n",
      " 16  a_goals          384 non-null    object \n",
      " 17  date             384 non-null    object \n",
      " 18  player_assisted  294 non-null    object \n",
      " 19  lastAction       384 non-null    object \n",
      "dtypes: float64(2), object(18)\n",
      "memory usage: 63.0+ KB\n"
     ]
    }
   ],
   "source": [
    "df.info()"
   ]
  },
  {
   "cell_type": "code",
   "execution_count": null,
   "metadata": {},
   "outputs": [],
   "source": []
  }
 ],
 "metadata": {
  "kernelspec": {
   "display_name": "Python 3",
   "language": "python",
   "name": "python3"
  },
  "language_info": {
   "codemirror_mode": {
    "name": "ipython",
    "version": 3
   },
   "file_extension": ".py",
   "mimetype": "text/x-python",
   "name": "python",
   "nbconvert_exporter": "python",
   "pygments_lexer": "ipython3",
   "version": "3.8.3"
  }
 },
 "nbformat": 4,
 "nbformat_minor": 4
}
