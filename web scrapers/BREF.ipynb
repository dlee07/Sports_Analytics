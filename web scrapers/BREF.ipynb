{
 "cells": [
  {
   "cell_type": "code",
   "execution_count": null,
   "metadata": {},
   "outputs": [],
   "source": [
    "import pandas as pd\n",
    "import numpy as np\n",
    "from bs4 import BeautifulSoup\n",
    "import requests"
   ]
  },
  {
   "cell_type": "code",
   "execution_count": null,
   "metadata": {},
   "outputs": [],
   "source": [
    "cols_3pt = ['player', 'pos', 'age', 'team_id', 'g', 'mp', 'fg3_per_poss', 'fg3a_per_poss', 'fg3_pct', \n",
    "       'ft_per_poss', 'fta_per_poss', 'ft_pct', 'off_rtg']\n",
    "\n",
    "cols_st = ['player', 'pos', 'age', 'team_id', 'pct_ast_fg3']"
   ]
  },
  {
   "cell_type": "code",
   "execution_count": null,
   "metadata": {},
   "outputs": [],
   "source": [
    "def scrape(link, cols):\n",
    "    res = requests.get(link)\n",
    "    soup = BeautifulSoup(res.content, 'lxml')\n",
    "    tables = soup.findAll('tbody')\n",
    "    rows = tables[0].findAll('tr')\n",
    "    table = dict()\n",
    "    \n",
    "    for curElem in rows:\n",
    "        if (curElem.find('th', {'scope': 'row'}) != None):\n",
    "            for curr in cols:\n",
    "                k = curElem.find('td', {'data-stat': curr})\n",
    "                text = k.text.strip().encode()\n",
    "                pretty_text = text.decode('utf-8')\n",
    "                if pretty_text == '':\n",
    "                    pretty_text = '0'\n",
    "                if (curr != 'player') and (curr != 'pos') and (curr != 'team_id'): \n",
    "                    pretty_text = float(pretty_text)\n",
    "                if curr in table:\n",
    "                    table[curr].append(pretty_text)\n",
    "                else:\n",
    "                    table[curr] = [pretty_text]\n",
    "                    \n",
    "    player = pd.DataFrame(table)\n",
    "    return player"
   ]
  },
  {
   "cell_type": "code",
   "execution_count": null,
   "metadata": {},
   "outputs": [],
   "source": [
    "base = 'https://www.basketball-reference.com/leagues/NBA_2021_'\n",
    "data = str(input('Please enter data: '))\n",
    "url = base + data + '.html'"
   ]
  },
  {
   "cell_type": "code",
   "execution_count": null,
   "metadata": {},
   "outputs": [],
   "source": [
    "df_poss = scrape(url, cols_3pt)"
   ]
  }
 ],
 "metadata": {
  "kernelspec": {
   "display_name": "Python 3",
   "language": "python",
   "name": "python3"
  },
  "language_info": {
   "codemirror_mode": {
    "name": "ipython",
    "version": 3
   },
   "file_extension": ".py",
   "mimetype": "text/x-python",
   "name": "python",
   "nbconvert_exporter": "python",
   "pygments_lexer": "ipython3",
   "version": "3.8.3"
  }
 },
 "nbformat": 4,
 "nbformat_minor": 4
}
