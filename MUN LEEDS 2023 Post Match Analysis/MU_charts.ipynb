{
 "cells": [
  {
   "cell_type": "code",
   "execution_count": 1,
   "metadata": {},
   "outputs": [],
   "source": [
    "import requests\n",
    "import pandas as pd\n",
    "import matplotlib.pyplot as plt\n",
    "from bs4 import BeautifulSoup"
   ]
  },
  {
   "cell_type": "code",
   "execution_count": 2,
   "metadata": {},
   "outputs": [],
   "source": [
    "df_stats = pd.read_excel('MU_stats.xlsx', 'Sheet2')"
   ]
  },
  {
   "cell_type": "code",
   "execution_count": 3,
   "metadata": {},
   "outputs": [
    {
     "data": {
      "text/plain": [
       "Index(['Minute', 'Player', 'Squad', 'xG', 'Outcome'], dtype='object')"
      ]
     },
     "execution_count": 3,
     "metadata": {},
     "output_type": "execute_result"
    }
   ],
   "source": [
    "df_stats.columns"
   ]
  },
  {
   "cell_type": "code",
   "execution_count": 4,
   "metadata": {},
   "outputs": [
    {
     "data": {
      "text/html": [
       "<div>\n",
       "<style scoped>\n",
       "    .dataframe tbody tr th:only-of-type {\n",
       "        vertical-align: middle;\n",
       "    }\n",
       "\n",
       "    .dataframe tbody tr th {\n",
       "        vertical-align: top;\n",
       "    }\n",
       "\n",
       "    .dataframe thead th {\n",
       "        text-align: right;\n",
       "    }\n",
       "</style>\n",
       "<table border=\"1\" class=\"dataframe\">\n",
       "  <thead>\n",
       "    <tr style=\"text-align: right;\">\n",
       "      <th></th>\n",
       "      <th>Minute</th>\n",
       "      <th>Player</th>\n",
       "      <th>Squad</th>\n",
       "      <th>xG</th>\n",
       "      <th>Outcome</th>\n",
       "    </tr>\n",
       "  </thead>\n",
       "  <tbody>\n",
       "    <tr>\n",
       "      <th>0</th>\n",
       "      <td>4</td>\n",
       "      <td>Patrick Bamford</td>\n",
       "      <td>Leeds United</td>\n",
       "      <td>0.15</td>\n",
       "      <td>Saved</td>\n",
       "    </tr>\n",
       "    <tr>\n",
       "      <th>1</th>\n",
       "      <td>4</td>\n",
       "      <td>Crysencio Summerville</td>\n",
       "      <td>Leeds United</td>\n",
       "      <td>0.21</td>\n",
       "      <td>Off Target</td>\n",
       "    </tr>\n",
       "    <tr>\n",
       "      <th>2</th>\n",
       "      <td>20</td>\n",
       "      <td>Bruno Fernandes</td>\n",
       "      <td>Manchester Utd</td>\n",
       "      <td>0.06</td>\n",
       "      <td>Off Target</td>\n",
       "    </tr>\n",
       "    <tr>\n",
       "      <th>3</th>\n",
       "      <td>21</td>\n",
       "      <td>Patrick Bamford</td>\n",
       "      <td>Leeds United</td>\n",
       "      <td>0.08</td>\n",
       "      <td>Blocked</td>\n",
       "    </tr>\n",
       "    <tr>\n",
       "      <th>4</th>\n",
       "      <td>39</td>\n",
       "      <td>Bruno Fernandes</td>\n",
       "      <td>Manchester Utd</td>\n",
       "      <td>0.09</td>\n",
       "      <td>Saved</td>\n",
       "    </tr>\n",
       "    <tr>\n",
       "      <th>5</th>\n",
       "      <td>44</td>\n",
       "      <td>Crysencio Summerville</td>\n",
       "      <td>Leeds United</td>\n",
       "      <td>0.05</td>\n",
       "      <td>Saved</td>\n",
       "    </tr>\n",
       "    <tr>\n",
       "      <th>6</th>\n",
       "      <td>46</td>\n",
       "      <td>Bruno Fernandes</td>\n",
       "      <td>Manchester Utd</td>\n",
       "      <td>0.30</td>\n",
       "      <td>Saved</td>\n",
       "    </tr>\n",
       "    <tr>\n",
       "      <th>7</th>\n",
       "      <td>47</td>\n",
       "      <td>Crysencio Summerville</td>\n",
       "      <td>Leeds United</td>\n",
       "      <td>0.03</td>\n",
       "      <td>Saved</td>\n",
       "    </tr>\n",
       "    <tr>\n",
       "      <th>8</th>\n",
       "      <td>48</td>\n",
       "      <td>Weston McKennie</td>\n",
       "      <td>Leeds United</td>\n",
       "      <td>0.17</td>\n",
       "      <td>Off Target</td>\n",
       "    </tr>\n",
       "    <tr>\n",
       "      <th>9</th>\n",
       "      <td>48</td>\n",
       "      <td>Jack Harrison</td>\n",
       "      <td>Leeds United</td>\n",
       "      <td>0.28</td>\n",
       "      <td>Off Target</td>\n",
       "    </tr>\n",
       "    <tr>\n",
       "      <th>10</th>\n",
       "      <td>51</td>\n",
       "      <td>Luke Ayling</td>\n",
       "      <td>Leeds United</td>\n",
       "      <td>0.06</td>\n",
       "      <td>Blocked</td>\n",
       "    </tr>\n",
       "    <tr>\n",
       "      <th>11</th>\n",
       "      <td>58</td>\n",
       "      <td>Robin Koch</td>\n",
       "      <td>Leeds United</td>\n",
       "      <td>0.25</td>\n",
       "      <td>Blocked</td>\n",
       "    </tr>\n",
       "    <tr>\n",
       "      <th>12</th>\n",
       "      <td>63</td>\n",
       "      <td>Diogo Dalot</td>\n",
       "      <td>Manchester Utd</td>\n",
       "      <td>0.03</td>\n",
       "      <td>Woodwork</td>\n",
       "    </tr>\n",
       "    <tr>\n",
       "      <th>13</th>\n",
       "      <td>65</td>\n",
       "      <td>Fred</td>\n",
       "      <td>Manchester Utd</td>\n",
       "      <td>0.03</td>\n",
       "      <td>Off Target</td>\n",
       "    </tr>\n",
       "    <tr>\n",
       "      <th>14</th>\n",
       "      <td>66</td>\n",
       "      <td>Degnand Gnonto</td>\n",
       "      <td>Leeds United</td>\n",
       "      <td>0.03</td>\n",
       "      <td>Saved</td>\n",
       "    </tr>\n",
       "    <tr>\n",
       "      <th>15</th>\n",
       "      <td>70</td>\n",
       "      <td>Luke Ayling</td>\n",
       "      <td>Leeds United</td>\n",
       "      <td>0.16</td>\n",
       "      <td>Saved</td>\n",
       "    </tr>\n",
       "    <tr>\n",
       "      <th>16</th>\n",
       "      <td>78</td>\n",
       "      <td>Crysencio Summerville</td>\n",
       "      <td>Leeds United</td>\n",
       "      <td>0.07</td>\n",
       "      <td>Saved</td>\n",
       "    </tr>\n",
       "    <tr>\n",
       "      <th>17</th>\n",
       "      <td>80</td>\n",
       "      <td>Marcus Rashford</td>\n",
       "      <td>Manchester Utd</td>\n",
       "      <td>0.21</td>\n",
       "      <td>Goal</td>\n",
       "    </tr>\n",
       "    <tr>\n",
       "      <th>18</th>\n",
       "      <td>85</td>\n",
       "      <td>Alejandro Garnacho</td>\n",
       "      <td>Manchester Utd</td>\n",
       "      <td>0.09</td>\n",
       "      <td>Goal</td>\n",
       "    </tr>\n",
       "    <tr>\n",
       "      <th>19</th>\n",
       "      <td>88</td>\n",
       "      <td>Maximilian Wöber</td>\n",
       "      <td>Leeds United</td>\n",
       "      <td>0.13</td>\n",
       "      <td>Blocked</td>\n",
       "    </tr>\n",
       "    <tr>\n",
       "      <th>20</th>\n",
       "      <td>88</td>\n",
       "      <td>Degnand Gnonto</td>\n",
       "      <td>Leeds United</td>\n",
       "      <td>0.07</td>\n",
       "      <td>Blocked</td>\n",
       "    </tr>\n",
       "    <tr>\n",
       "      <th>21</th>\n",
       "      <td>88</td>\n",
       "      <td>Brenden Aaronson</td>\n",
       "      <td>Leeds United</td>\n",
       "      <td>0.05</td>\n",
       "      <td>Blocked</td>\n",
       "    </tr>\n",
       "    <tr>\n",
       "      <th>22</th>\n",
       "      <td>89</td>\n",
       "      <td>Maximilian Wöber</td>\n",
       "      <td>Leeds United</td>\n",
       "      <td>0.07</td>\n",
       "      <td>Off Target</td>\n",
       "    </tr>\n",
       "    <tr>\n",
       "      <th>23</th>\n",
       "      <td>89</td>\n",
       "      <td>Alejandro Garnacho</td>\n",
       "      <td>Manchester Utd</td>\n",
       "      <td>0.12</td>\n",
       "      <td>Blocked</td>\n",
       "    </tr>\n",
       "    <tr>\n",
       "      <th>24</th>\n",
       "      <td>89</td>\n",
       "      <td>Bruno Fernandes</td>\n",
       "      <td>Manchester Utd</td>\n",
       "      <td>0.04</td>\n",
       "      <td>Saved</td>\n",
       "    </tr>\n",
       "    <tr>\n",
       "      <th>25</th>\n",
       "      <td>93</td>\n",
       "      <td>Anthony Elanga</td>\n",
       "      <td>Manchester Utd</td>\n",
       "      <td>0.05</td>\n",
       "      <td>Off Target</td>\n",
       "    </tr>\n",
       "    <tr>\n",
       "      <th>26</th>\n",
       "      <td>93</td>\n",
       "      <td>Harry Maguire</td>\n",
       "      <td>Manchester Utd</td>\n",
       "      <td>0.10</td>\n",
       "      <td>Blocked</td>\n",
       "    </tr>\n",
       "  </tbody>\n",
       "</table>\n",
       "</div>"
      ],
      "text/plain": [
       "    Minute                 Player           Squad    xG     Outcome\n",
       "0        4        Patrick Bamford    Leeds United  0.15       Saved\n",
       "1        4  Crysencio Summerville    Leeds United  0.21  Off Target\n",
       "2       20        Bruno Fernandes  Manchester Utd  0.06  Off Target\n",
       "3       21        Patrick Bamford    Leeds United  0.08     Blocked\n",
       "4       39        Bruno Fernandes  Manchester Utd  0.09       Saved\n",
       "5       44  Crysencio Summerville    Leeds United  0.05       Saved\n",
       "6       46        Bruno Fernandes  Manchester Utd  0.30       Saved\n",
       "7       47  Crysencio Summerville    Leeds United  0.03       Saved\n",
       "8       48        Weston McKennie    Leeds United  0.17  Off Target\n",
       "9       48          Jack Harrison    Leeds United  0.28  Off Target\n",
       "10      51            Luke Ayling    Leeds United  0.06     Blocked\n",
       "11      58             Robin Koch    Leeds United  0.25     Blocked\n",
       "12      63            Diogo Dalot  Manchester Utd  0.03    Woodwork\n",
       "13      65                   Fred  Manchester Utd  0.03  Off Target\n",
       "14      66         Degnand Gnonto    Leeds United  0.03       Saved\n",
       "15      70            Luke Ayling    Leeds United  0.16       Saved\n",
       "16      78  Crysencio Summerville    Leeds United  0.07       Saved\n",
       "17      80        Marcus Rashford  Manchester Utd  0.21        Goal\n",
       "18      85     Alejandro Garnacho  Manchester Utd  0.09        Goal\n",
       "19      88       Maximilian Wöber    Leeds United  0.13     Blocked\n",
       "20      88         Degnand Gnonto    Leeds United  0.07     Blocked\n",
       "21      88       Brenden Aaronson    Leeds United  0.05     Blocked\n",
       "22      89       Maximilian Wöber    Leeds United  0.07  Off Target\n",
       "23      89     Alejandro Garnacho  Manchester Utd  0.12     Blocked\n",
       "24      89        Bruno Fernandes  Manchester Utd  0.04       Saved\n",
       "25      93         Anthony Elanga  Manchester Utd  0.05  Off Target\n",
       "26      93          Harry Maguire  Manchester Utd  0.10     Blocked"
      ]
     },
     "execution_count": 4,
     "metadata": {},
     "output_type": "execute_result"
    }
   ],
   "source": [
    "df_stats"
   ]
  },
  {
   "cell_type": "code",
   "execution_count": 5,
   "metadata": {},
   "outputs": [],
   "source": [
    "df_h = df_stats[df_stats.Squad!='Manchester Utd']\n",
    "df_a = df_stats[df_stats.Squad=='Manchester Utd']"
   ]
  },
  {
   "cell_type": "code",
   "execution_count": 6,
   "metadata": {},
   "outputs": [],
   "source": [
    "xg_a = df_a['xG'].astype(float).tolist()\n",
    "xg_h = df_h['xG'].astype(float).tolist()"
   ]
  },
  {
   "cell_type": "code",
   "execution_count": 7,
   "metadata": {},
   "outputs": [],
   "source": [
    "xg_a_min = df_a['Minute'].astype(float).tolist()\n",
    "xg_h_min = df_h['Minute'].astype(float).tolist()"
   ]
  },
  {
   "cell_type": "code",
   "execution_count": 8,
   "metadata": {},
   "outputs": [],
   "source": [
    "def nums_cumulative_sum(nums_list):\n",
    "    return [sum(nums_list[:i+1]) for i in range(len(nums_list))]"
   ]
  },
  {
   "cell_type": "code",
   "execution_count": 9,
   "metadata": {},
   "outputs": [],
   "source": [
    "a_cumulative = nums_cumulative_sum(xg_a)\n",
    "h_cumulative = nums_cumulative_sum(xg_h)"
   ]
  },
  {
   "cell_type": "code",
   "execution_count": 10,
   "metadata": {},
   "outputs": [],
   "source": [
    "a_total = round(a_cumulative[-1], 2)\n",
    "h_total = round(h_cumulative[-1], 2)"
   ]
  },
  {
   "cell_type": "code",
   "execution_count": 11,
   "metadata": {},
   "outputs": [
    {
     "name": "stdout",
     "output_type": "stream",
     "text": [
      "1.12\n",
      "1.86\n"
     ]
    }
   ],
   "source": [
    "print(a_total)\n",
    "print(h_total)"
   ]
  },
  {
   "cell_type": "code",
   "execution_count": 24,
   "metadata": {},
   "outputs": [
    {
     "name": "stderr",
     "output_type": "stream",
     "text": [
      "<ipython-input-24-0a24ec702770>:1: SettingWithCopyWarning: \n",
      "A value is trying to be set on a copy of a slice from a DataFrame.\n",
      "Try using .loc[row_indexer,col_indexer] = value instead\n",
      "\n",
      "See the caveats in the documentation: https://pandas.pydata.org/pandas-docs/stable/user_guide/indexing.html#returning-a-view-versus-a-copy\n",
      "  df_a['cumulative xG'] = a_cumulative\n",
      "<ipython-input-24-0a24ec702770>:2: SettingWithCopyWarning: \n",
      "A value is trying to be set on a copy of a slice from a DataFrame.\n",
      "Try using .loc[row_indexer,col_indexer] = value instead\n",
      "\n",
      "See the caveats in the documentation: https://pandas.pydata.org/pandas-docs/stable/user_guide/indexing.html#returning-a-view-versus-a-copy\n",
      "  df_h['cumulative xG'] = h_cumulative\n"
     ]
    }
   ],
   "source": [
    "df_a['cumulative xG'] = a_cumulative\n",
    "df_h['cumulative xG'] = h_cumulative"
   ]
  },
  {
   "cell_type": "code",
   "execution_count": 25,
   "metadata": {},
   "outputs": [],
   "source": [
    "df_goals = pd.concat([df_a, df_h])"
   ]
  },
  {
   "cell_type": "code",
   "execution_count": 27,
   "metadata": {},
   "outputs": [],
   "source": [
    "df_goals = df_goals[df_goals['Outcome'] == 'Goal']"
   ]
  },
  {
   "cell_type": "code",
   "execution_count": 28,
   "metadata": {},
   "outputs": [
    {
     "name": "stderr",
     "output_type": "stream",
     "text": [
      "<ipython-input-28-c5b7ea9cdb67>:1: SettingWithCopyWarning: \n",
      "A value is trying to be set on a copy of a slice from a DataFrame.\n",
      "Try using .loc[row_indexer,col_indexer] = value instead\n",
      "\n",
      "See the caveats in the documentation: https://pandas.pydata.org/pandas-docs/stable/user_guide/indexing.html#returning-a-view-versus-a-copy\n",
      "  df_goals['Minute'] = df_goals['Minute'].astype(int)\n"
     ]
    }
   ],
   "source": [
    "df_goals['Minute'] = df_goals['Minute'].astype(int)"
   ]
  },
  {
   "cell_type": "code",
   "execution_count": 33,
   "metadata": {},
   "outputs": [
    {
     "data": {
      "image/png": "[encoded data removed]",
      "text/plain": [
       "<Figure size 1008x576 with 1 Axes>"
      ]
     },
     "metadata": {},
     "output_type": "display_data"
    }
   ],
   "source": [
    "fig, ax = plt.subplots(figsize=(14,8), facecolor='black')\n",
    "ax.set(facecolor = \"black\")\n",
    "plt.title('Leeds 0 : 2 Manchester United\\n1.86 xG : 1.12 xG', color='white', fontsize=22)\n",
    "plt.xticks([0,10,20,30,40,50,60,70,80,90], color='white')\n",
    "plt.yticks(color='white')\n",
    "plt.xlabel('Minutes', color='white', fontsize=18)\n",
    "plt.ylabel('xG', color='white', fontsize=18)\n",
    "ax.spines['top'].set_color('white')\n",
    "ax.spines['right'].set_visible(False)\n",
    "ax.spines['bottom'].set_color('white')\n",
    "ax.spines['left'].set_visible(False)\n",
    "ax.scatter(x=df_goals['Minute'], y=df_goals['cumulative xG'],s=300,c='#D4AF37',zorder=20, marker='*')\n",
    "annotations = df_goals.Player.tolist()\n",
    "for i, label in enumerate(annotations):\n",
    "    temp = label.split()\n",
    "    ax.annotate(temp[1], (df_goals['Minute'].iloc[i]-4, df_goals['cumulative xG'].iloc[i]+0.05), fontsize=12, color='white', zorder=20)\n",
    "ax.step(x=xg_a_min, y=a_cumulative, where='post', c='#DC143C',zorder=5)\n",
    "ax.step(x=xg_h_min, y=h_cumulative, where='post', c='white',zorder=5)\n",
    "ax.grid(axis='y', linestyle='--', which='major', color='#FAF9F6', alpha=0.5)\n",
    "fig.savefig('LEEMUN.png', bbox_inches='tight', dpi=200, facecolor='black')\n"
   ]
  },
  {
   "cell_type": "code",
   "execution_count": 40,
   "metadata": {},
   "outputs": [],
   "source": [
    "df_table = pd.read_excel('MU_stats.xlsx', 'Sheet1')"
   ]
  },
  {
   "cell_type": "code",
   "execution_count": 41,
   "metadata": {},
   "outputs": [],
   "source": [
    "ranges = range(1, len(df_table.index)+1)"
   ]
  },
  {
   "cell_type": "code",
   "execution_count": 42,
   "metadata": {},
   "outputs": [
    {
     "data": {
      "text/html": [
       "<div>\n",
       "<style scoped>\n",
       "    .dataframe tbody tr th:only-of-type {\n",
       "        vertical-align: middle;\n",
       "    }\n",
       "\n",
       "    .dataframe tbody tr th {\n",
       "        vertical-align: top;\n",
       "    }\n",
       "\n",
       "    .dataframe thead th {\n",
       "        text-align: right;\n",
       "    }\n",
       "</style>\n",
       "<table border=\"1\" class=\"dataframe\">\n",
       "  <thead>\n",
       "    <tr style=\"text-align: right;\">\n",
       "      <th></th>\n",
       "      <th>Metric</th>\n",
       "      <th>Manchester United</th>\n",
       "      <th>Leeds</th>\n",
       "    </tr>\n",
       "  </thead>\n",
       "  <tbody>\n",
       "    <tr>\n",
       "      <th>0</th>\n",
       "      <td>xG</td>\n",
       "      <td>1.10</td>\n",
       "      <td>1.8000</td>\n",
       "    </tr>\n",
       "    <tr>\n",
       "      <th>1</th>\n",
       "      <td>Possession</td>\n",
       "      <td>0.66</td>\n",
       "      <td>0.3400</td>\n",
       "    </tr>\n",
       "    <tr>\n",
       "      <th>2</th>\n",
       "      <td>Territory</td>\n",
       "      <td>0.48</td>\n",
       "      <td>0.5200</td>\n",
       "    </tr>\n",
       "    <tr>\n",
       "      <th>3</th>\n",
       "      <td>xG/shot</td>\n",
       "      <td>0.10</td>\n",
       "      <td>0.1125</td>\n",
       "    </tr>\n",
       "  </tbody>\n",
       "</table>\n",
       "</div>"
      ],
      "text/plain": [
       "       Metric  Manchester United   Leeds\n",
       "0          xG               1.10  1.8000\n",
       "1  Possession               0.66  0.3400\n",
       "2   Territory               0.48  0.5200\n",
       "3     xG/shot               0.10  0.1125"
      ]
     },
     "execution_count": 42,
     "metadata": {},
     "output_type": "execute_result"
    }
   ],
   "source": [
    "df_table"
   ]
  },
  {
   "cell_type": "code",
   "execution_count": 74,
   "metadata": {},
   "outputs": [
    {
     "name": "stderr",
     "output_type": "stream",
     "text": [
      "<ipython-input-74-eba31b082967>:18: MatplotlibDeprecationWarning: Adding an axes using the same arguments as a previous axes currently reuses the earlier instance.  In a future version, a new instance will always be created and returned.  Meanwhile, this warning can be suppressed, and the future behavior ensured, by passing a unique label to each axes instance.\n",
      "  ax = plt.axes()\n"
     ]
    },
    {
     "data": {
      "image/png": "[encoded data removed]",
      "text/plain": [
       "<Figure size 648x432 with 1 Axes>"
      ]
     },
     "metadata": {},
     "output_type": "display_data"
    }
   ],
   "source": [
    "plt.figure(facecolor='black', figsize=(9,6))\n",
    "plt.hlines(y=ranges, xmin=df_table['Manchester United'], xmax=df_table['Leeds'], color='grey')\n",
    "plt.scatter(df_table['Manchester United'], ranges, color='red', label='MU', s=60, zorder=5)\n",
    "plt.scatter(df_table['Leeds'], ranges, color='white', label='LEEDS', s=60, zorder=5)\n",
    "plt.yticks(ranges, df_table['Metric'], color='white')\n",
    "plt.xticks([0.1, 0.3, 0.5, 0.7, 0.9, 1.1, 1.3, 1.5, 1.7, 1.9], color='white')\n",
    "plt.xlabel('Value', color='white', fontsize=12)\n",
    "plt.ylabel('Metric', color='white', fontsize=12)\n",
    "plt.grid(alpha=0.4)\n",
    "plt.title(\"Table of Higher Level Metrics\", color='white', loc='left', fontsize=14)\n",
    "plt.text(0.8, 4.2, 'Manchester United', color='red', ha='left', fontsize=12)\n",
    "plt.text(1.25, 4.2, '&', color='white', fontsize=12)\n",
    "plt.text(1.32, 4.2, 'Leeds', color='white', fontsize=12)\n",
    "plt.gca().spines['top'].set_visible(False)\n",
    "plt.gca().spines['right'].set_visible(False)\n",
    "plt.gca().spines['left'].set_color('white')\n",
    "plt.gca().spines['bottom'].set_color('white')\n",
    "ax = plt.axes()\n",
    "ax.set_facecolor('black')\n",
    "plt.text(1.2, 0, 'Source: Fbref via Statsbomb', color='white', fontsize=12)\n",
    "plt.savefig(fname='Table.png', bbox_inches='tight', dpi=200, facecolor='black')"
   ]
  },
  {
   "cell_type": "code",
   "execution_count": null,
   "metadata": {},
   "outputs": [],
   "source": []
  }
 ],
 "metadata": {
  "kernelspec": {
   "display_name": "Python 3",
   "language": "python",
   "name": "python3"
  },
  "language_info": {
   "codemirror_mode": {
    "name": "ipython",
    "version": 3
   },
   "file_extension": ".py",
   "mimetype": "text/x-python",
   "name": "python",
   "nbconvert_exporter": "python",
   "pygments_lexer": "ipython3",
   "version": "3.8.3"
  }
 },
 "nbformat": 4,
 "nbformat_minor": 4
}
